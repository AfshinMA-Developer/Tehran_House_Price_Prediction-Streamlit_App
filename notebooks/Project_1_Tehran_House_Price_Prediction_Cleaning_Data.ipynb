{
 "cells": [
  {
   "cell_type": "markdown",
   "metadata": {
    "id": "xUeBcjohNTGK"
   },
   "source": [
    "# Project 1 - Tehran House Price Prediction - Clean the dataset\n",
    "\n",
    "- Cleaning the dataset"
   ]
  },
  {
   "cell_type": "markdown",
   "metadata": {
    "id": "2tWe6N4RM28j"
   },
   "source": [
    "\n",
    "- Course Name :         Applied Machine Learning\n",
    "- Course instructor:    Sohail Tehranipour\n",
    "- Student Name :        Afshin Masoudi Ashtiani\n",
    "- Project 1 -           Tehran House Price Prediction\n",
    "- Date :                September 2024\n",
    "- File(ipynb) :         1/5"
   ]
  },
  {
   "cell_type": "markdown",
   "metadata": {
    "id": "efNH0c9QM0hI"
   },
   "source": [
    "## Step 1: Install required libraries"
   ]
  },
  {
   "cell_type": "code",
   "execution_count": 1,
   "metadata": {
    "colab": {
     "base_uri": "https://localhost:8080/"
    },
    "collapsed": true,
    "id": "EMyNwj7-Mee1",
    "outputId": "95195ad7-d0d6-4025-959f-b4726fc6e6c3"
   },
   "outputs": [
    {
     "name": "stdout",
     "output_type": "stream",
     "text": [
      "Requirement already satisfied: numpy in c:\\users\\afshin\\desktop\\project_1\\.venv\\lib\\site-packages (1.26.4)\n",
      "Requirement already satisfied: pandas in c:\\users\\afshin\\desktop\\project_1\\.venv\\lib\\site-packages (2.2.3)\n",
      "Requirement already satisfied: requests in c:\\users\\afshin\\desktop\\project_1\\.venv\\lib\\site-packages (2.32.3)\n",
      "Requirement already satisfied: bs4 in c:\\users\\afshin\\desktop\\project_1\\.venv\\lib\\site-packages (0.0.2)\n",
      "Requirement already satisfied: python-dateutil>=2.8.2 in c:\\users\\afshin\\desktop\\project_1\\.venv\\lib\\site-packages (from pandas) (2.9.0.post0)\n",
      "Requirement already satisfied: pytz>=2020.1 in c:\\users\\afshin\\desktop\\project_1\\.venv\\lib\\site-packages (from pandas) (2024.2)\n",
      "Requirement already satisfied: tzdata>=2022.7 in c:\\users\\afshin\\desktop\\project_1\\.venv\\lib\\site-packages (from pandas) (2024.2)\n",
      "Requirement already satisfied: charset-normalizer<4,>=2 in c:\\users\\afshin\\desktop\\project_1\\.venv\\lib\\site-packages (from requests) (3.4.0)\n",
      "Requirement already satisfied: idna<4,>=2.5 in c:\\users\\afshin\\desktop\\project_1\\.venv\\lib\\site-packages (from requests) (3.10)\n",
      "Requirement already satisfied: urllib3<3,>=1.21.1 in c:\\users\\afshin\\desktop\\project_1\\.venv\\lib\\site-packages (from requests) (2.2.3)\n",
      "Requirement already satisfied: certifi>=2017.4.17 in c:\\users\\afshin\\desktop\\project_1\\.venv\\lib\\site-packages (from requests) (2024.8.30)\n",
      "Requirement already satisfied: beautifulsoup4 in c:\\users\\afshin\\desktop\\project_1\\.venv\\lib\\site-packages (from bs4) (4.12.3)\n",
      "Requirement already satisfied: six>=1.5 in c:\\users\\afshin\\desktop\\project_1\\.venv\\lib\\site-packages (from python-dateutil>=2.8.2->pandas) (1.16.0)\n",
      "Requirement already satisfied: soupsieve>1.2 in c:\\users\\afshin\\desktop\\project_1\\.venv\\lib\\site-packages (from beautifulsoup4->bs4) (2.6)\n",
      "Note: you may need to restart the kernel to use updated packages.\n"
     ]
    }
   ],
   "source": [
    "%pip install numpy pandas requests bs4"
   ]
  },
  {
   "cell_type": "markdown",
   "metadata": {
    "id": "SPwLA46BQj_d"
   },
   "source": [
    "## Step 2: Import required libraries"
   ]
  },
  {
   "cell_type": "code",
   "execution_count": 2,
   "metadata": {
    "colab": {
     "base_uri": "https://localhost:8080/"
    },
    "collapsed": true,
    "id": "qCqunEjsQndV",
    "outputId": "dcdb8709-bafe-4bb3-cee8-61d0736e4e7f"
   },
   "outputs": [],
   "source": [
    "import re\n",
    "import pandas as pd\n",
    "import numpy as np\n",
    "\n",
    "import requests\n",
    "from bs4 import BeautifulSoup\n",
    "\n",
    "import warnings\n",
    "warnings.filterwarnings('ignore')\n",
    "\n",
    "# from google.colab import drive\n",
    "# drive.mount('/content/drive', force_remount=True)"
   ]
  },
  {
   "cell_type": "markdown",
   "metadata": {
    "id": "TZaHP2WVyUeW"
   },
   "source": [
    "## Step 3 : Load and Prepare data"
   ]
  },
  {
   "cell_type": "markdown",
   "metadata": {
    "id": "QXwBMKgIGjkg"
   },
   "source": [
    "### I : Load the dataset"
   ]
  },
  {
   "cell_type": "code",
   "execution_count": 9,
   "metadata": {
    "colab": {
     "base_uri": "https://localhost:8080/"
    },
    "id": "QVVm_kbY8dPp",
    "outputId": "288b10ea-3466-499a-a69f-9dcc66c4247c"
   },
   "outputs": [
    {
     "name": "stdout",
     "output_type": "stream",
     "text": [
      "<class 'pandas.core.frame.DataFrame'>\n",
      "RangeIndex: 3479 entries, 0 to 3478\n",
      "Data columns (total 8 columns):\n",
      " #   Column      Non-Null Count  Dtype  \n",
      "---  ------      --------------  -----  \n",
      " 0   Area        3479 non-null   object \n",
      " 1   Room        3479 non-null   int64  \n",
      " 2   Parking     3479 non-null   bool   \n",
      " 3   Warehouse   3479 non-null   bool   \n",
      " 4   Elevator    3479 non-null   bool   \n",
      " 5   Address     3456 non-null   object \n",
      " 6   Price       3479 non-null   float64\n",
      " 7   Price(USD)  3479 non-null   float64\n",
      "dtypes: bool(3), float64(2), int64(1), object(2)\n",
      "memory usage: 146.2+ KB\n"
     ]
    }
   ],
   "source": [
    "# Load dataset\n",
    "# dataset_path = r'/content/drive/My Drive/Applied Machine Learning/Project 1 : Tehran House Price Prediction/datasets/housePrice.csv'\n",
    "dataset_path = r'C:/Users/Afshin/Desktop/Project_1/datasets/housePrice.csv'\n",
    "df = pd.read_csv(dataset_path)\n",
    "df.info()"
   ]
  },
  {
   "cell_type": "markdown",
   "metadata": {
    "id": "0F3k_q2twVJz"
   },
   "source": [
    "### II : Update the **Price**"
   ]
  },
  {
   "cell_type": "markdown",
   "metadata": {
    "id": "VOD2n1ypwVob"
   },
   "source": [
    "- Convert English numbers in a string to Persian numbers"
   ]
  },
  {
   "cell_type": "code",
   "execution_count": 10,
   "metadata": {
    "id": "IG_zWwBYwcij"
   },
   "outputs": [],
   "source": [
    "def convert_to_persian_numbers(text: str) -> str:\n",
    "    \"\"\"Convert English numbers in a string to Persian numbers.\"\"\"\n",
    "    english_to_persian = {\n",
    "        '0': '۰',\n",
    "        '1': '۱',\n",
    "        '2': '۲',\n",
    "        '3': '۳',\n",
    "        '4': '۴',\n",
    "        '5': '۵',\n",
    "        '6': '۶',\n",
    "        '7': '۷',\n",
    "        '8': '۸',\n",
    "        '9': '۹'\n",
    "    }\n",
    "\n",
    "    # Replace English digits with Persian digits\n",
    "    for eng_digit, persian_digit in english_to_persian.items():\n",
    "        text = text.replace(eng_digit, persian_digit)\n",
    "\n",
    "    return text"
   ]
  },
  {
   "cell_type": "markdown",
   "metadata": {
    "id": "AVoTPAGLwkSy"
   },
   "source": [
    "- Get the today Price(USD)"
   ]
  },
  {
   "cell_type": "code",
   "execution_count": 11,
   "metadata": {
    "id": "BUgttQ6ewosR"
   },
   "outputs": [],
   "source": [
    "def get_USD_to_IR() -> float:\n",
    "    url = 'https://www.tgju.org/profile/price_dollar_rl'\n",
    "    response = requests.get(url)\n",
    "    if response.status_code != 200:\n",
    "        print(f'> Error in fetching {url}: {response.status_code}.')\n",
    "        return 300000\n",
    "    soup = BeautifulSoup(response.text, 'html.parser')\n",
    "    per_usd = soup.find('span', {'data-col' : 'info.last_trade.PDrCotVal'}).text.replace(',', '')\n",
    "    return float(convert_to_persian_numbers(per_usd))"
   ]
  },
  {
   "cell_type": "code",
   "execution_count": 12,
   "metadata": {
    "colab": {
     "base_uri": "https://localhost:8080/"
    },
    "id": "UPBe0k6Fws7J",
    "outputId": "ff69d21b-5f4e-44a6-b635-ec010a9381e1"
   },
   "outputs": [
    {
     "name": "stdout",
     "output_type": "stream",
     "text": [
      ">> Today Doller Price: 681750.0 (IRR)\n",
      ">> Correct Coefficient: 2.2725\n"
     ]
    }
   ],
   "source": [
    "today_usd = get_USD_to_IR()\n",
    "# Every USD is equal to 30,000 Tomans (Extra Info).\n",
    "correct_coeff = today_usd / 300000\n",
    "print(f'>> Today Doller Price: {today_usd} (IRR)')\n",
    "print(f'>> Correct Coefficient: {correct_coeff}')"
   ]
  },
  {
   "cell_type": "markdown",
   "metadata": {},
   "source": [
    "- Set display option"
   ]
  },
  {
   "cell_type": "code",
   "execution_count": 13,
   "metadata": {},
   "outputs": [],
   "source": [
    "# Set display option for floating-point numbers\n",
    "pd.set_option('display.float_format', lambda x: '%.f' % x)"
   ]
  },
  {
   "cell_type": "markdown",
   "metadata": {
    "id": "BjP3EdaTxdkH"
   },
   "source": [
    "- Correct the Price"
   ]
  },
  {
   "cell_type": "code",
   "execution_count": 14,
   "metadata": {
    "colab": {
     "base_uri": "https://localhost:8080/",
     "height": 0
    },
    "id": "H5EpvTtexgDm",
    "outputId": "3812963c-066b-40e9-c79e-8e23503c5dc4"
   },
   "outputs": [
    {
     "data": {
      "text/html": [
       "<div>\n",
       "<style scoped>\n",
       "    .dataframe tbody tr th:only-of-type {\n",
       "        vertical-align: middle;\n",
       "    }\n",
       "\n",
       "    .dataframe tbody tr th {\n",
       "        vertical-align: top;\n",
       "    }\n",
       "\n",
       "    .dataframe thead th {\n",
       "        text-align: right;\n",
       "    }\n",
       "</style>\n",
       "<table border=\"1\" class=\"dataframe\">\n",
       "  <thead>\n",
       "    <tr style=\"text-align: right;\">\n",
       "      <th></th>\n",
       "      <th>Area</th>\n",
       "      <th>Room</th>\n",
       "      <th>Parking</th>\n",
       "      <th>Warehouse</th>\n",
       "      <th>Elevator</th>\n",
       "      <th>Address</th>\n",
       "      <th>Price</th>\n",
       "      <th>Price(USD)</th>\n",
       "    </tr>\n",
       "  </thead>\n",
       "  <tbody>\n",
       "    <tr>\n",
       "      <th>0</th>\n",
       "      <td>63</td>\n",
       "      <td>1</td>\n",
       "      <td>True</td>\n",
       "      <td>True</td>\n",
       "      <td>True</td>\n",
       "      <td>Shahran</td>\n",
       "      <td>42041250000</td>\n",
       "      <td>61667</td>\n",
       "    </tr>\n",
       "    <tr>\n",
       "      <th>1</th>\n",
       "      <td>60</td>\n",
       "      <td>1</td>\n",
       "      <td>True</td>\n",
       "      <td>True</td>\n",
       "      <td>True</td>\n",
       "      <td>Shahran</td>\n",
       "      <td>42041250000</td>\n",
       "      <td>61667</td>\n",
       "    </tr>\n",
       "    <tr>\n",
       "      <th>2</th>\n",
       "      <td>79</td>\n",
       "      <td>2</td>\n",
       "      <td>True</td>\n",
       "      <td>True</td>\n",
       "      <td>True</td>\n",
       "      <td>Pardis</td>\n",
       "      <td>12498750000</td>\n",
       "      <td>18333</td>\n",
       "    </tr>\n",
       "    <tr>\n",
       "      <th>3</th>\n",
       "      <td>95</td>\n",
       "      <td>2</td>\n",
       "      <td>True</td>\n",
       "      <td>True</td>\n",
       "      <td>True</td>\n",
       "      <td>Shahrake Qods</td>\n",
       "      <td>20509312500</td>\n",
       "      <td>30083</td>\n",
       "    </tr>\n",
       "    <tr>\n",
       "      <th>4</th>\n",
       "      <td>123</td>\n",
       "      <td>2</td>\n",
       "      <td>True</td>\n",
       "      <td>True</td>\n",
       "      <td>True</td>\n",
       "      <td>Shahrake Gharb</td>\n",
       "      <td>159075000000</td>\n",
       "      <td>233333</td>\n",
       "    </tr>\n",
       "  </tbody>\n",
       "</table>\n",
       "</div>"
      ],
      "text/plain": [
       "  Area  Room  Parking  Warehouse  Elevator         Address        Price  \\\n",
       "0   63     1     True       True      True         Shahran  42041250000   \n",
       "1   60     1     True       True      True         Shahran  42041250000   \n",
       "2   79     2     True       True      True          Pardis  12498750000   \n",
       "3   95     2     True       True      True   Shahrake Qods  20509312500   \n",
       "4  123     2     True       True      True  Shahrake Gharb 159075000000   \n",
       "\n",
       "   Price(USD)  \n",
       "0       61667  \n",
       "1       61667  \n",
       "2       18333  \n",
       "3       30083  \n",
       "4      233333  "
      ]
     },
     "execution_count": 14,
     "metadata": {},
     "output_type": "execute_result"
    }
   ],
   "source": [
    "df.Price = df.Price.apply(lambda x: x * correct_coeff * 10)\n",
    "df.head(5)"
   ]
  },
  {
   "cell_type": "markdown",
   "metadata": {
    "id": "aqCxuQ00VKoU"
   },
   "source": [
    "### III : Drop irrequired columns"
   ]
  },
  {
   "cell_type": "code",
   "execution_count": 15,
   "metadata": {
    "colab": {
     "base_uri": "https://localhost:8080/"
    },
    "id": "AZRzwX75VHTA",
    "outputId": "1c102d15-d6ae-4556-d530-f835585476ee"
   },
   "outputs": [
    {
     "name": "stdout",
     "output_type": "stream",
     "text": [
      "<class 'pandas.core.frame.DataFrame'>\n",
      "RangeIndex: 3479 entries, 0 to 3478\n",
      "Data columns (total 7 columns):\n",
      " #   Column     Non-Null Count  Dtype  \n",
      "---  ------     --------------  -----  \n",
      " 0   Area       3479 non-null   object \n",
      " 1   Room       3479 non-null   int64  \n",
      " 2   Parking    3479 non-null   bool   \n",
      " 3   Warehouse  3479 non-null   bool   \n",
      " 4   Elevator   3479 non-null   bool   \n",
      " 5   Address    3456 non-null   object \n",
      " 6   Price      3479 non-null   float64\n",
      "dtypes: bool(3), float64(1), int64(1), object(2)\n",
      "memory usage: 119.0+ KB\n"
     ]
    }
   ],
   "source": [
    "df = df.drop(['Price(USD)'], axis= 1)\n",
    "df.info()"
   ]
  },
  {
   "cell_type": "markdown",
   "metadata": {
    "id": "Jw3uWemL8eNy"
   },
   "source": [
    "## Step 4 : Data Cleaning"
   ]
  },
  {
   "cell_type": "markdown",
   "metadata": {
    "id": "GR4_4wQ8C2bL"
   },
   "source": [
    "### I : Correct the datatype of columns"
   ]
  },
  {
   "cell_type": "code",
   "execution_count": 16,
   "metadata": {
    "colab": {
     "base_uri": "https://localhost:8080/"
    },
    "id": "Tt6L92jsC5wR",
    "outputId": "51301ea8-36ce-47d9-f8e4-88856dd85b7c"
   },
   "outputs": [
    {
     "name": "stdout",
     "output_type": "stream",
     "text": [
      "<class 'pandas.core.frame.DataFrame'>\n",
      "RangeIndex: 3479 entries, 0 to 3478\n",
      "Data columns (total 7 columns):\n",
      " #   Column     Non-Null Count  Dtype  \n",
      "---  ------     --------------  -----  \n",
      " 0   Area       3479 non-null   int64  \n",
      " 1   Room       3479 non-null   int64  \n",
      " 2   Parking    3479 non-null   bool   \n",
      " 3   Warehouse  3479 non-null   bool   \n",
      " 4   Elevator   3479 non-null   bool   \n",
      " 5   Address    3456 non-null   object \n",
      " 6   Price      3479 non-null   float64\n",
      "dtypes: bool(3), float64(1), int64(2), object(1)\n",
      "memory usage: 119.0+ KB\n"
     ]
    }
   ],
   "source": [
    "df.Area = df.Area.apply(lambda x: re.sub('\\D', '', str(x)))\n",
    "df.Area = pd.to_numeric(df.Area, errors= 'coerce')\n",
    "df.info()"
   ]
  },
  {
   "cell_type": "code",
   "execution_count": 17,
   "metadata": {
    "colab": {
     "base_uri": "https://localhost:8080/"
    },
    "id": "EJt5KFt8DCxa",
    "outputId": "201bdcbf-3e93-4cb0-cbb8-b2be292e7318"
   },
   "outputs": [
    {
     "name": "stdout",
     "output_type": "stream",
     "text": [
      "> Object features  : ['Address']\n",
      "> Boolean features : ['Parking', 'Warehouse', 'Elevator']\n",
      "> Numeric features : ['Area', 'Room', 'Price']\n"
     ]
    }
   ],
   "source": [
    "# Returns the list of names by selected column names\n",
    "boolean_col_names = df.select_dtypes(include='bool').columns.tolist()\n",
    "numeric_col_names = df.select_dtypes(include='number').columns.tolist()\n",
    "object_col_names = df.select_dtypes(include='object').columns.tolist()\n",
    "print(f'> Object features  : {object_col_names}')\n",
    "print(f'> Boolean features : {boolean_col_names}')\n",
    "print(f'> Numeric features : {numeric_col_names}')"
   ]
  },
  {
   "cell_type": "markdown",
   "metadata": {
    "id": "cTm6N98REYXS"
   },
   "source": [
    "### II : Handle **missing values**"
   ]
  },
  {
   "cell_type": "code",
   "execution_count": 18,
   "metadata": {
    "colab": {
     "base_uri": "https://localhost:8080/"
    },
    "id": "TiTqfWSYGKaJ",
    "outputId": "10b3fc6c-d69c-41bf-93a9-dabcd2af8a91"
   },
   "outputs": [
    {
     "name": "stdout",
     "output_type": "stream",
     "text": [
      "Missing values per feature:\n",
      " Address    23\n",
      "dtype: int64\n"
     ]
    }
   ],
   "source": [
    "# Visualizing missing values\n",
    "missing_data = df.isnull().sum()\n",
    "missing_data = missing_data[missing_data > 0]\n",
    "print(\"Missing values per feature:\\n\", missing_data)"
   ]
  },
  {
   "cell_type": "code",
   "execution_count": 19,
   "metadata": {
    "colab": {
     "base_uri": "https://localhost:8080/"
    },
    "id": "SEc7rPOAHWV7",
    "outputId": "d79f7683-1b85-4782-95aa-745f41f1cce7"
   },
   "outputs": [
    {
     "name": "stdout",
     "output_type": "stream",
     "text": [
      "> Number of dataset samples before handling null values is 3479\n",
      "> Number of dataset samples after handling null values is 3456\n"
     ]
    }
   ],
   "source": [
    "# Handle Null Values\n",
    "# Fill with median or use appropriate method\n",
    "# df.fillna(df.median(), inplace=True)\n",
    "\n",
    "# Drop Null Values\n",
    "print(f'> Number of dataset samples before handling null values is {len(df)}')\n",
    "df.dropna(ignore_index= True, inplace= True)\n",
    "print(f'> Number of dataset samples after handling null values is {len(df)}')"
   ]
  },
  {
   "cell_type": "markdown",
   "metadata": {
    "id": "yAOq5jbOIF43"
   },
   "source": [
    "### III : Handle **duplicates**"
   ]
  },
  {
   "cell_type": "code",
   "execution_count": 20,
   "metadata": {
    "colab": {
     "base_uri": "https://localhost:8080/"
    },
    "id": "U7eQ4SsRIFM_",
    "outputId": "db97ddd4-25f1-4e94-e15d-2e5f24534bdc"
   },
   "outputs": [
    {
     "name": "stdout",
     "output_type": "stream",
     "text": [
      "> Number of dataset samples before handling duplicates is 3456\n",
      "> Number of dataset samples after handling duplicates is 3248\n"
     ]
    }
   ],
   "source": [
    "# Handle Duplicate Values\n",
    "print(f'> Number of dataset samples before handling duplicates is {len(df)}')\n",
    "df = df.drop_duplicates(ignore_index= True)\n",
    "print(f'> Number of dataset samples after handling duplicates is {len(df)}')"
   ]
  },
  {
   "cell_type": "markdown",
   "metadata": {
    "id": "tRBvnAIUIz9G"
   },
   "source": [
    "### IV : Handle **outliers**"
   ]
  },
  {
   "cell_type": "code",
   "execution_count": 21,
   "metadata": {
    "colab": {
     "base_uri": "https://localhost:8080/",
     "height": 0
    },
    "id": "nQmMdS5nOyFG",
    "outputId": "872e9ec9-0541-4d2e-c8ff-6636774fa551"
   },
   "outputs": [
    {
     "data": {
      "text/html": [
       "<div>\n",
       "<style scoped>\n",
       "    .dataframe tbody tr th:only-of-type {\n",
       "        vertical-align: middle;\n",
       "    }\n",
       "\n",
       "    .dataframe tbody tr th {\n",
       "        vertical-align: top;\n",
       "    }\n",
       "\n",
       "    .dataframe thead th {\n",
       "        text-align: right;\n",
       "    }\n",
       "</style>\n",
       "<table border=\"1\" class=\"dataframe\">\n",
       "  <thead>\n",
       "    <tr style=\"text-align: right;\">\n",
       "      <th></th>\n",
       "      <th>Area</th>\n",
       "      <th>Room</th>\n",
       "      <th>Price</th>\n",
       "    </tr>\n",
       "  </thead>\n",
       "  <tbody>\n",
       "    <tr>\n",
       "      <th>count</th>\n",
       "      <td>3248</td>\n",
       "      <td>3248</td>\n",
       "      <td>3248</td>\n",
       "    </tr>\n",
       "    <tr>\n",
       "      <th>mean</th>\n",
       "      <td>9365872</td>\n",
       "      <td>2</td>\n",
       "      <td>124490229704</td>\n",
       "    </tr>\n",
       "    <tr>\n",
       "      <th>std</th>\n",
       "      <td>327790565</td>\n",
       "      <td>1</td>\n",
       "      <td>187888391192</td>\n",
       "    </tr>\n",
       "    <tr>\n",
       "      <th>min</th>\n",
       "      <td>30</td>\n",
       "      <td>0</td>\n",
       "      <td>81810000</td>\n",
       "    </tr>\n",
       "    <tr>\n",
       "      <th>25%</th>\n",
       "      <td>70</td>\n",
       "      <td>2</td>\n",
       "      <td>32269500000</td>\n",
       "    </tr>\n",
       "    <tr>\n",
       "      <th>50%</th>\n",
       "      <td>90</td>\n",
       "      <td>2</td>\n",
       "      <td>67663687500</td>\n",
       "    </tr>\n",
       "    <tr>\n",
       "      <th>75%</th>\n",
       "      <td>122</td>\n",
       "      <td>2</td>\n",
       "      <td>140895000000</td>\n",
       "    </tr>\n",
       "    <tr>\n",
       "      <th>max</th>\n",
       "      <td>16160000000</td>\n",
       "      <td>5</td>\n",
       "      <td>2099790000000</td>\n",
       "    </tr>\n",
       "  </tbody>\n",
       "</table>\n",
       "</div>"
      ],
      "text/plain": [
       "             Area  Room         Price\n",
       "count        3248  3248          3248\n",
       "mean      9365872     2  124490229704\n",
       "std     327790565     1  187888391192\n",
       "min            30     0      81810000\n",
       "25%            70     2   32269500000\n",
       "50%            90     2   67663687500\n",
       "75%           122     2  140895000000\n",
       "max   16160000000     5 2099790000000"
      ]
     },
     "execution_count": 21,
     "metadata": {},
     "output_type": "execute_result"
    }
   ],
   "source": [
    "df.describe()"
   ]
  },
  {
   "cell_type": "code",
   "execution_count": 22,
   "metadata": {},
   "outputs": [
    {
     "data": {
      "image/png": "[encoded data removed]",
      "text/plain": [
       "<Figure size 1600x800 with 2 Axes>"
      ]
     },
     "metadata": {},
     "output_type": "display_data"
    }
   ],
   "source": [
    "import matplotlib.pyplot as plt\n",
    "import seaborn as sns\n",
    "\n",
    "plt.figure(figsize=(16,8))\n",
    "plt.subplot(2,1,1)\n",
    "sns.boxplot(x=df.Area)\n",
    "plt.subplot(2,1,2)\n",
    "sns.boxplot(x=df.Price)\n",
    "plt.tight_layout()\n",
    "plt.show()"
   ]
  },
  {
   "cell_type": "markdown",
   "metadata": {
    "id": "d7C2ewQ7JMQt"
   },
   "source": [
    "- Using **Z-Score**"
   ]
  },
  {
   "cell_type": "code",
   "execution_count": 23,
   "metadata": {
    "id": "jCZ7mOw9JUw0"
   },
   "outputs": [],
   "source": [
    "def remove_outliers_z_score(data:pd.DataFrame, column_name:str, threshold:float= 3) -> pd.DataFrame:\n",
    "    \"\"\"Remove outliers using Z-score method.\"\"\"\n",
    "    z_scores = np.abs((data[column_name] - np.mean(data[column_name])) / np.std(data[column_name]))\n",
    "    return data[z_scores < threshold]"
   ]
  },
  {
   "cell_type": "markdown",
   "metadata": {
    "id": "ul8P4CzpJPpU"
   },
   "source": [
    "- Using **IQR**"
   ]
  },
  {
   "cell_type": "code",
   "execution_count": 24,
   "metadata": {
    "id": "TZmG0FemJX3b"
   },
   "outputs": [],
   "source": [
    "def remove_outliers_iqr(data:pd.DataFrame, column_name:str, threshold:float= 1.5) -> pd.DataFrame:\n",
    "    \"\"\"Remove outliers using IQR method.\"\"\"\n",
    "    Q1 = data[column_name].quantile(0.25)\n",
    "    Q3 = data[column_name].quantile(0.75)\n",
    "    IQR = Q3 - Q1\n",
    "    return data[~((data[column_name] < (Q1 - threshold * IQR)) | (data[column_name] > (Q3 + threshold * IQR)))]"
   ]
  },
  {
   "cell_type": "code",
   "execution_count": 25,
   "metadata": {
    "id": "eB74l1ONdOeO"
   },
   "outputs": [],
   "source": [
    "# Example usage\n",
    "# print(f'> Number of dataset samples before handling outliers is {len(df)}.')\n",
    "# df = remove_outliers_z_score(df, 'Price')\n",
    "# print(f'> Number of dataset samples after handling outliers is {len(df)}.')\n",
    "# print(\"Cleaned Data (Z-Score): \\n\", df)"
   ]
  },
  {
   "cell_type": "code",
   "execution_count": 26,
   "metadata": {
    "colab": {
     "base_uri": "https://localhost:8080/"
    },
    "id": "PbZhfZePJnOj",
    "outputId": "c0a10fc9-b22c-4bb5-a319-94667977ea05"
   },
   "outputs": [
    {
     "name": "stdout",
     "output_type": "stream",
     "text": [
      "> Number of dataset samples before handling outliers is 3248.\n",
      "> Number of dataset samples after handling Price outliers is 2976.\n",
      "> Number of dataset samples after handling Area outliers is 2884.\n",
      "> Cleaned Data (IQR): \n",
      "<class 'pandas.core.frame.DataFrame'>\n",
      "RangeIndex: 2884 entries, 0 to 2883\n",
      "Data columns (total 7 columns):\n",
      " #   Column     Non-Null Count  Dtype  \n",
      "---  ------     --------------  -----  \n",
      " 0   Area       2884 non-null   int64  \n",
      " 1   Room       2884 non-null   int64  \n",
      " 2   Parking    2884 non-null   bool   \n",
      " 3   Warehouse  2884 non-null   bool   \n",
      " 4   Elevator   2884 non-null   bool   \n",
      " 5   Address    2884 non-null   object \n",
      " 6   Price      2884 non-null   float64\n",
      "dtypes: bool(3), float64(1), int64(2), object(1)\n",
      "memory usage: 98.7+ KB\n"
     ]
    }
   ],
   "source": [
    "# Example usage\n",
    "print(f'> Number of dataset samples before handling outliers is {len(df)}.')\n",
    "df = remove_outliers_iqr(df, 'Price')\n",
    "print(f'> Number of dataset samples after handling Price outliers is {len(df)}.')\n",
    "df = remove_outliers_iqr(df, 'Area')\n",
    "print(f'> Number of dataset samples after handling Area outliers is {len(df)}.')\n",
    "df.reset_index(drop= True, inplace= True)\n",
    "print(\"> Cleaned Data (IQR): \")\n",
    "df.info()"
   ]
  },
  {
   "cell_type": "markdown",
   "metadata": {
    "id": "oDjUuLpBKlUU"
   },
   "source": [
    "### V : Save the cleaned dataset"
   ]
  },
  {
   "cell_type": "code",
   "execution_count": 27,
   "metadata": {
    "id": "UvaQZ6rKKvS8"
   },
   "outputs": [
    {
     "name": "stdout",
     "output_type": "stream",
     "text": [
      "> Cleaned dataset Saved to C:/Users/Afshin/Desktop/Project_1/datasets/cleaned_housePrice.csv\n"
     ]
    }
   ],
   "source": [
    "# dataset_path = r'/content/drive/My Drive/Applied Machine Learning/Project 1 : Tehran House Price Prediction/datasets/cleaned_housePrice.csv'\n",
    "dataset_path = r'C:/Users/Afshin/Desktop/Project_1/datasets/cleaned_housePrice.csv'\n",
    "df.to_csv(dataset_path, index= False)\n",
    "print(f\"> Cleaned dataset Saved to {dataset_path}\")"
   ]
  }
 ],
 "metadata": {
  "colab": {
   "collapsed_sections": [
    "efNH0c9QM0hI",
    "SPwLA46BQj_d",
    "QXwBMKgIGjkg",
    "0F3k_q2twVJz",
    "aqCxuQ00VKoU",
    "GR4_4wQ8C2bL",
    "cTm6N98REYXS",
    "yAOq5jbOIF43",
    "tRBvnAIUIz9G"
   ],
   "provenance": []
  },
  "kernelspec": {
   "display_name": "venv",
   "language": "python",
   "name": "python3"
  },
  "language_info": {
   "codemirror_mode": {
    "name": "ipython",
    "version": 3
   },
   "file_extension": ".py",
   "mimetype": "text/x-python",
   "name": "python",
   "nbconvert_exporter": "python",
   "pygments_lexer": "ipython3",
   "version": "3.12.5"
  }
 },
 "nbformat": 4,
 "nbformat_minor": 0
}
